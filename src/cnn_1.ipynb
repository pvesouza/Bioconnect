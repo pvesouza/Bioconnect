{
 "cells": [
  {
   "cell_type": "code",
   "execution_count": 5,
   "metadata": {},
   "outputs": [],
   "source": [
    "import matplotlib.pyplot as plt\n",
    "import pandas as pd\n",
    "import numpy as np\n",
    "import os\n",
    "import seaborn as snb\n",
    "import tensorflow as tf\n",
    "from tensorflow import keras\n",
    "from scipy import stats as st"
   ]
  },
  {
   "cell_type": "code",
   "execution_count": 6,
   "metadata": {},
   "outputs": [],
   "source": [
    "# Returns wether PC os is linux or other\n",
    "def isLinux():\n",
    "    return os.name == 'posix'"
   ]
  },
  {
   "cell_type": "code",
   "execution_count": 7,
   "metadata": {},
   "outputs": [],
   "source": [
    "biosense_readings_path = ''\n",
    "emstast_readings_path = ''\n",
    "\n",
    "if isLinux():\n",
    "    pass\n",
    "else:\n",
    "    biosense_readings_path = 'C:\\\\Users\\\\pveso\\\\Downloads\\\\Biosense_Validation\\\\Commertial_Electrodes_Biosense\\\\'\n",
    "    emstast_readings_path = 'C:\\\\Users\\\\pveso\\\\Downloads\\\\Biosense_Validation\\\\Commertial_Electrodes_Emstat_Blue\\\\Readings\\\\'"
   ]
  },
  {
   "cell_type": "code",
   "execution_count": 8,
   "metadata": {},
   "outputs": [
    {
     "name": "stdout",
     "output_type": "stream",
     "text": [
      "reading pandas df successifully\n",
      "Rhodamine:25\n",
      "Virgin:25\n"
     ]
    }
   ],
   "source": [
    "# reading all csv files\n",
    "readings_list = sorted(os.listdir(biosense_readings_path))\n",
    "df_list_rhodamine = []\n",
    "df_list_virgin = []\n",
    "if (len(readings_list) > 0):\n",
    "    for i in range(len(readings_list)):\n",
    "        file = readings_list[i]\n",
    "        df = pd.read_csv(biosense_readings_path + file)\n",
    "        if ('data_R' in file):\n",
    "            df_list_rhodamine.append(df)\n",
    "        else:\n",
    "            df_list_virgin.append(df)\n",
    "\n",
    "    print(f'reading pandas df successifully\\nRhodamine:{len(df_list_rhodamine)}\\nVirgin:{len(df_list_virgin)}')\n",
    "else:\n",
    "    print('There is no file in the path')   "
   ]
  },
  {
   "cell_type": "code",
   "execution_count": 9,
   "metadata": {},
   "outputs": [],
   "source": [
    "# Joining all pandas files into groups with rhodamine and no-rhodamin\n",
    "biosense_rhodamine = pd.concat(df_list_rhodamine, axis=1)\n",
    "biosense_virgin = pd.concat(df_list_virgin, axis=1)\n",
    "potential_rhodamine = biosense_rhodamine.iloc[:,0]\n",
    "currents_rhodamine = biosense_rhodamine.iloc[:,1::2]\n",
    "potential_virgin = biosense_virgin.iloc[:,0]\n",
    "currents_virgin = biosense_virgin.iloc[:,1::2]"
   ]
  },
  {
   "cell_type": "code",
   "execution_count": 21,
   "metadata": {},
   "outputs": [
    {
     "data": {
      "text/plain": [
       "(50, 1)"
      ]
     },
     "execution_count": 21,
     "metadata": {},
     "output_type": "execute_result"
    }
   ],
   "source": [
    "# Rhodamine = 1\n",
    "# Virgin = 0\n",
    "\n",
    "Y = np.concatenate((np.zeros(shape = (1, currents_virgin.shape[1])), np.ones(shape = (1, currents_rhodamine.shape[1]))), axis = 1)\n",
    "Y = Y.transpose()\n",
    "Y.shape"
   ]
  },
  {
   "cell_type": "code",
   "execution_count": 22,
   "metadata": {},
   "outputs": [
    {
     "data": {
      "text/plain": [
       "(50, 1115)"
      ]
     },
     "execution_count": 22,
     "metadata": {},
     "output_type": "execute_result"
    }
   ],
   "source": [
    "X = np.concatenate((currents_virgin, currents_rhodamine), axis = 1)\n",
    "X = X.transpose()\n",
    "X.shape"
   ]
  },
  {
   "cell_type": "code",
   "execution_count": 29,
   "metadata": {},
   "outputs": [],
   "source": [
    "# normalization min-max\n",
    "for i in range(len(X)):\n",
    "    values = X[i,:]\n",
    "    min_ = np.min(values)\n",
    "    max_ = np.max(values)\n",
    "    X[i,:] = (values - min_) / (max_ - min_)"
   ]
  },
  {
   "cell_type": "code",
   "execution_count": 37,
   "metadata": {},
   "outputs": [
    {
     "name": "stdout",
     "output_type": "stream",
     "text": [
      "(33, 1115)\n",
      "(33, 1)\n",
      "(17, 1115)\n",
      "(17, 1)\n"
     ]
    }
   ],
   "source": [
    "from sklearn.model_selection import train_test_split\n",
    "X_train, X_test, y_train, y_test = train_test_split(X, Y, test_size=0.33, random_state=42)\n",
    "print(X_train.shape)\n",
    "print(y_train.shape)\n",
    "print(X_test.shape)\n",
    "print(y_test.shape)"
   ]
  },
  {
   "cell_type": "code",
   "execution_count": 38,
   "metadata": {},
   "outputs": [
    {
     "name": "stdout",
     "output_type": "stream",
     "text": [
      "Model: \"sequential_5\"\n",
      "_________________________________________________________________\n",
      "Layer (type)                 Output Shape              Param #   \n",
      "=================================================================\n",
      "conv1d_5 (Conv1D)            (None, 1109, 16)          128       \n",
      "_________________________________________________________________\n",
      "max_pooling1d_2 (MaxPooling1 (None, 554, 16)           0         \n",
      "_________________________________________________________________\n",
      "conv1d_6 (Conv1D)            (None, 552, 32)           1568      \n",
      "_________________________________________________________________\n",
      "max_pooling1d_3 (MaxPooling1 (None, 276, 32)           0         \n",
      "_________________________________________________________________\n",
      "flatten_1 (Flatten)          (None, 8832)              0         \n",
      "_________________________________________________________________\n",
      "dense_4 (Dense)              (None, 512)               4522496   \n",
      "_________________________________________________________________\n",
      "dense_5 (Dense)              (None, 256)               131328    \n",
      "_________________________________________________________________\n",
      "dense_6 (Dense)              (None, 128)               32896     \n",
      "_________________________________________________________________\n",
      "dense_7 (Dense)              (None, 1)                 129       \n",
      "=================================================================\n",
      "Total params: 4,688,545\n",
      "Trainable params: 4,688,545\n",
      "Non-trainable params: 0\n",
      "_________________________________________________________________\n"
     ]
    }
   ],
   "source": [
    "model = tf.keras.Sequential()\n",
    "\n",
    "# First convolutional layer\n",
    "model.add(tf.keras.layers.Conv1D(activation='relu', input_shape = (1115, 1), kernel_size=7, filters=16))\n",
    "model.add(tf.keras.layers.MaxPooling1D(pool_size=2))\n",
    "\n",
    "# Second convolutional layer\n",
    "model.add(tf.keras.layers.Conv1D(filters=32, kernel_size=3, activation='relu'))\n",
    "model.add(tf.keras.layers.MaxPooling1D(pool_size=2))\n",
    "\n",
    "# Flatten layer to transition from convolutional layers to dense layers\n",
    "model.add(tf.keras.layers.Flatten())\n",
    "\n",
    "# Fully connected layers\n",
    "model.add(tf.keras.layers.Dense(512, activation='relu'))\n",
    "model.add(tf.keras.layers.Dense(256, activation='relu'))\n",
    "model.add(tf.keras.layers.Dense(128, activation='relu'))\n",
    "\n",
    "# Output layer\n",
    "model.add(tf.keras.layers.Dense(1, activation='sigmoid'))\n",
    "\n",
    "# Compile the model\n",
    "model.compile(optimizer='adam', loss='binary_crossentropy', metrics=['accuracy'])\n",
    "\n",
    "# Display the model summary\n",
    "model.summary()\n",
    "          "
   ]
  },
  {
   "cell_type": "code",
   "execution_count": 39,
   "metadata": {},
   "outputs": [
    {
     "name": "stdout",
     "output_type": "stream",
     "text": [
      "Train on 33 samples, validate on 17 samples\n",
      "Epoch 1/50\n",
      "33/33 [==============================] - 0s 13ms/sample - loss: 0.7377 - acc: 0.3939 - val_loss: 0.6880 - val_acc: 0.5294\n",
      "Epoch 2/50\n",
      "33/33 [==============================] - 0s 7ms/sample - loss: 0.7040 - acc: 0.4242 - val_loss: 0.6891 - val_acc: 0.4706\n",
      "Epoch 3/50\n",
      "33/33 [==============================] - 0s 7ms/sample - loss: 0.6879 - acc: 0.4242 - val_loss: 0.6760 - val_acc: 0.9412\n",
      "Epoch 4/50\n",
      "33/33 [==============================] - 0s 7ms/sample - loss: 0.6910 - acc: 0.5758 - val_loss: 0.6694 - val_acc: 0.4706\n",
      "Epoch 5/50\n",
      "33/33 [==============================] - 0s 7ms/sample - loss: 0.6401 - acc: 0.6667 - val_loss: 0.6246 - val_acc: 0.5294\n",
      "Epoch 6/50\n",
      "33/33 [==============================] - 0s 8ms/sample - loss: 0.6515 - acc: 0.6061 - val_loss: 0.5515 - val_acc: 1.0000\n",
      "Epoch 7/50\n",
      "33/33 [==============================] - 0s 7ms/sample - loss: 0.5541 - acc: 0.7576 - val_loss: 0.4542 - val_acc: 1.0000\n",
      "Epoch 8/50\n",
      "33/33 [==============================] - 0s 8ms/sample - loss: 0.4266 - acc: 0.8485 - val_loss: 0.3866 - val_acc: 0.6471\n",
      "Epoch 9/50\n",
      "33/33 [==============================] - 0s 7ms/sample - loss: 0.2574 - acc: 0.8788 - val_loss: 0.0873 - val_acc: 1.0000\n",
      "Epoch 10/50\n",
      "33/33 [==============================] - 0s 7ms/sample - loss: 0.2020 - acc: 0.9697 - val_loss: 0.0447 - val_acc: 1.0000\n",
      "Epoch 11/50\n",
      "33/33 [==============================] - 0s 7ms/sample - loss: 0.1232 - acc: 0.9697 - val_loss: 0.0166 - val_acc: 1.0000\n",
      "Epoch 12/50\n",
      "33/33 [==============================] - 0s 7ms/sample - loss: 0.0775 - acc: 0.9697 - val_loss: 0.0078 - val_acc: 1.0000\n",
      "Epoch 13/50\n",
      "33/33 [==============================] - 0s 8ms/sample - loss: 0.0409 - acc: 1.0000 - val_loss: 0.0315 - val_acc: 1.0000\n",
      "Epoch 14/50\n",
      "33/33 [==============================] - 0s 8ms/sample - loss: 0.0104 - acc: 1.0000 - val_loss: 0.0026 - val_acc: 1.0000\n",
      "Epoch 15/50\n",
      "33/33 [==============================] - 0s 7ms/sample - loss: 0.0036 - acc: 1.0000 - val_loss: 0.0014 - val_acc: 1.0000\n",
      "Epoch 16/50\n",
      "33/33 [==============================] - 0s 7ms/sample - loss: 0.0063 - acc: 1.0000 - val_loss: 8.4780e-04 - val_acc: 1.0000\n",
      "Epoch 17/50\n",
      "33/33 [==============================] - 0s 8ms/sample - loss: 0.0040 - acc: 1.0000 - val_loss: 0.0118 - val_acc: 1.0000\n",
      "Epoch 18/50\n",
      "33/33 [==============================] - 0s 8ms/sample - loss: 0.0064 - acc: 1.0000 - val_loss: 4.8605e-04 - val_acc: 1.0000\n",
      "Epoch 19/50\n",
      "33/33 [==============================] - 0s 7ms/sample - loss: 5.9503e-04 - acc: 1.0000 - val_loss: 2.7777e-04 - val_acc: 1.0000\n",
      "Epoch 20/50\n",
      "33/33 [==============================] - 0s 8ms/sample - loss: 0.0023 - acc: 1.0000 - val_loss: 2.2067e-04 - val_acc: 1.0000\n",
      "Epoch 21/50\n",
      "33/33 [==============================] - 0s 8ms/sample - loss: 7.6286e-04 - acc: 1.0000 - val_loss: 2.9149e-04 - val_acc: 1.0000\n",
      "Epoch 22/50\n",
      "33/33 [==============================] - 0s 7ms/sample - loss: 3.8692e-04 - acc: 1.0000 - val_loss: 5.8249e-04 - val_acc: 1.0000\n",
      "Epoch 23/50\n",
      "33/33 [==============================] - 0s 7ms/sample - loss: 5.0921e-04 - acc: 1.0000 - val_loss: 6.3645e-04 - val_acc: 1.0000\n",
      "Epoch 24/50\n",
      "33/33 [==============================] - 0s 7ms/sample - loss: 4.5376e-04 - acc: 1.0000 - val_loss: 4.7127e-04 - val_acc: 1.0000\n",
      "Epoch 25/50\n",
      "33/33 [==============================] - 0s 7ms/sample - loss: 3.3947e-04 - acc: 1.0000 - val_loss: 2.6566e-04 - val_acc: 1.0000\n",
      "Epoch 26/50\n",
      "33/33 [==============================] - 0s 8ms/sample - loss: 2.1398e-04 - acc: 1.0000 - val_loss: 1.8571e-04 - val_acc: 1.0000\n",
      "Epoch 27/50\n",
      "33/33 [==============================] - 0s 8ms/sample - loss: 1.8982e-04 - acc: 1.0000 - val_loss: 1.4148e-04 - val_acc: 1.0000\n",
      "Epoch 28/50\n",
      "33/33 [==============================] - 0s 7ms/sample - loss: 1.7650e-04 - acc: 1.0000 - val_loss: 1.1720e-04 - val_acc: 1.0000\n",
      "Epoch 29/50\n",
      "33/33 [==============================] - 0s 7ms/sample - loss: 1.5916e-04 - acc: 1.0000 - val_loss: 1.0655e-04 - val_acc: 1.0000\n",
      "Epoch 30/50\n",
      "33/33 [==============================] - 0s 7ms/sample - loss: 1.4788e-04 - acc: 1.0000 - val_loss: 9.9827e-05 - val_acc: 1.0000\n",
      "Epoch 31/50\n",
      "33/33 [==============================] - 0s 7ms/sample - loss: 1.3664e-04 - acc: 1.0000 - val_loss: 9.5014e-05 - val_acc: 1.0000\n",
      "Epoch 32/50\n",
      "33/33 [==============================] - 0s 7ms/sample - loss: 1.2610e-04 - acc: 1.0000 - val_loss: 8.9277e-05 - val_acc: 1.0000\n",
      "Epoch 33/50\n",
      "33/33 [==============================] - 0s 7ms/sample - loss: 1.1783e-04 - acc: 1.0000 - val_loss: 8.5264e-05 - val_acc: 1.0000\n",
      "Epoch 34/50\n",
      "33/33 [==============================] - 0s 8ms/sample - loss: 1.0918e-04 - acc: 1.0000 - val_loss: 8.0470e-05 - val_acc: 1.0000\n",
      "Epoch 35/50\n",
      "33/33 [==============================] - 0s 8ms/sample - loss: 1.0281e-04 - acc: 1.0000 - val_loss: 7.7072e-05 - val_acc: 1.0000\n",
      "Epoch 36/50\n",
      "33/33 [==============================] - 0s 8ms/sample - loss: 9.6955e-05 - acc: 1.0000 - val_loss: 7.4320e-05 - val_acc: 1.0000\n",
      "Epoch 37/50\n",
      "33/33 [==============================] - 0s 8ms/sample - loss: 8.9987e-05 - acc: 1.0000 - val_loss: 7.0020e-05 - val_acc: 1.0000\n",
      "Epoch 38/50\n",
      "33/33 [==============================] - 0s 8ms/sample - loss: 8.4248e-05 - acc: 1.0000 - val_loss: 6.5725e-05 - val_acc: 1.0000\n",
      "Epoch 39/50\n",
      "33/33 [==============================] - 0s 8ms/sample - loss: 7.8903e-05 - acc: 1.0000 - val_loss: 5.9992e-05 - val_acc: 1.0000\n",
      "Epoch 40/50\n",
      "33/33 [==============================] - 0s 9ms/sample - loss: 7.3470e-05 - acc: 1.0000 - val_loss: 5.5526e-05 - val_acc: 1.0000\n",
      "Epoch 41/50\n",
      "33/33 [==============================] - 0s 10ms/sample - loss: 7.0971e-05 - acc: 1.0000 - val_loss: 5.1005e-05 - val_acc: 1.0000\n",
      "Epoch 42/50\n",
      "33/33 [==============================] - 0s 9ms/sample - loss: 6.5759e-05 - acc: 1.0000 - val_loss: 4.7131e-05 - val_acc: 1.0000\n",
      "Epoch 43/50\n",
      "33/33 [==============================] - 0s 9ms/sample - loss: 6.1953e-05 - acc: 1.0000 - val_loss: 4.5320e-05 - val_acc: 1.0000\n",
      "Epoch 44/50\n",
      "33/33 [==============================] - 0s 9ms/sample - loss: 5.9102e-05 - acc: 1.0000 - val_loss: 4.3686e-05 - val_acc: 1.0000\n",
      "Epoch 45/50\n",
      "33/33 [==============================] - 0s 9ms/sample - loss: 5.5659e-05 - acc: 1.0000 - val_loss: 4.1723e-05 - val_acc: 1.0000\n",
      "Epoch 46/50\n",
      "33/33 [==============================] - 0s 9ms/sample - loss: 5.3038e-05 - acc: 1.0000 - val_loss: 3.8305e-05 - val_acc: 1.0000\n",
      "Epoch 47/50\n",
      "33/33 [==============================] - 0s 9ms/sample - loss: 5.0044e-05 - acc: 1.0000 - val_loss: 3.7079e-05 - val_acc: 1.0000\n",
      "Epoch 48/50\n",
      "33/33 [==============================] - 0s 8ms/sample - loss: 4.7406e-05 - acc: 1.0000 - val_loss: 3.4747e-05 - val_acc: 1.0000\n",
      "Epoch 49/50\n",
      "33/33 [==============================] - 0s 8ms/sample - loss: 4.5348e-05 - acc: 1.0000 - val_loss: 3.3035e-05 - val_acc: 1.0000\n",
      "Epoch 50/50\n",
      "33/33 [==============================] - 0s 8ms/sample - loss: 4.2663e-05 - acc: 1.0000 - val_loss: 3.1389e-05 - val_acc: 1.0000\n"
     ]
    }
   ],
   "source": [
    "# Reshape the data to fit the 1D CNN input shape\n",
    "X_train = X_train.reshape((X_train.shape[0], X_train.shape[1], 1))\n",
    "X_test = X_test.reshape((X_test.shape[0], X_test.shape[1], 1))\n",
    "\n",
    "# Train the model\n",
    "batch_size = 5\n",
    "epochs = 50\n",
    "\n",
    "history = model.fit(X_train, y_train, validation_data=(X_test, y_test), batch_size=batch_size, epochs=epochs)"
   ]
  },
  {
   "cell_type": "code",
   "execution_count": 45,
   "metadata": {},
   "outputs": [
    {
     "data": {
      "text/plain": [
       "array([[8, 0],\n",
       "       [0, 9]], dtype=int64)"
      ]
     },
     "execution_count": 45,
     "metadata": {},
     "output_type": "execute_result"
    }
   ],
   "source": [
    "# Matriz confusão\n",
    "from sklearn.metrics import confusion_matrix\n",
    "\n",
    "y_pred = model.predict(X_test)\n",
    "y_pred = y_pred > 0.5\n",
    "confusion_matrix(y_test, y_pred)"
   ]
  },
  {
   "cell_type": "code",
   "execution_count": null,
   "metadata": {},
   "outputs": [],
   "source": [
    "# Organizando "
   ]
  }
 ],
 "metadata": {
  "kernelspec": {
   "display_name": "ai_dev",
   "language": "python",
   "name": "python3"
  },
  "language_info": {
   "codemirror_mode": {
    "name": "ipython",
    "version": 3
   },
   "file_extension": ".py",
   "mimetype": "text/x-python",
   "name": "python",
   "nbconvert_exporter": "python",
   "pygments_lexer": "ipython3",
   "version": "3.7.1"
  }
 },
 "nbformat": 4,
 "nbformat_minor": 2
}
