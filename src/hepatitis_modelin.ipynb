{
 "cells": [
  {
   "cell_type": "code",
   "execution_count": 24,
   "metadata": {},
   "outputs": [],
   "source": [
    "import pandas as pd\n",
    "import numpy as np\n",
    "import matplotlib.pyplot as plt\n",
    "from sklearn.ensemble import RandomForestClassifier\n",
    "from sklearn.metrics import classification_report\n",
    "from sklearn.linear_model import LogisticRegression\n",
    "from sklearn.svm import SVC\n",
    "from sklearn.neighbors import KNeighborsClassifier\n",
    "from sklearn.tree import DecisionTreeClassifier\n",
    "from sklearn.model_selection import KFold, train_test_split, cross_val_score\n",
    "from sklearn.preprocessing import StandardScaler, MinMaxScaler"
   ]
  },
  {
   "cell_type": "code",
   "execution_count": 4,
   "metadata": {},
   "outputs": [
    {
     "data": {
      "text/html": [
       "<div>\n",
       "<style scoped>\n",
       "    .dataframe tbody tr th:only-of-type {\n",
       "        vertical-align: middle;\n",
       "    }\n",
       "\n",
       "    .dataframe tbody tr th {\n",
       "        vertical-align: top;\n",
       "    }\n",
       "\n",
       "    .dataframe thead th {\n",
       "        text-align: right;\n",
       "    }\n",
       "</style>\n",
       "<table border=\"1\" class=\"dataframe\">\n",
       "  <thead>\n",
       "    <tr style=\"text-align: right;\">\n",
       "      <th></th>\n",
       "      <th>mean</th>\n",
       "      <th>std</th>\n",
       "      <th>min</th>\n",
       "      <th>25%</th>\n",
       "      <th>50%</th>\n",
       "      <th>75%</th>\n",
       "      <th>max</th>\n",
       "      <th>label</th>\n",
       "    </tr>\n",
       "  </thead>\n",
       "  <tbody>\n",
       "    <tr>\n",
       "      <th>0</th>\n",
       "      <td>2.136484</td>\n",
       "      <td>13.148316</td>\n",
       "      <td>0.000780</td>\n",
       "      <td>0.016872</td>\n",
       "      <td>0.032798</td>\n",
       "      <td>0.207694</td>\n",
       "      <td>109.881552</td>\n",
       "      <td>0</td>\n",
       "    </tr>\n",
       "    <tr>\n",
       "      <th>1</th>\n",
       "      <td>1.982966</td>\n",
       "      <td>11.981397</td>\n",
       "      <td>0.005990</td>\n",
       "      <td>0.038772</td>\n",
       "      <td>0.053273</td>\n",
       "      <td>0.175096</td>\n",
       "      <td>100.000194</td>\n",
       "      <td>0</td>\n",
       "    </tr>\n",
       "    <tr>\n",
       "      <th>2</th>\n",
       "      <td>2.163138</td>\n",
       "      <td>12.898257</td>\n",
       "      <td>0.003843</td>\n",
       "      <td>0.040499</td>\n",
       "      <td>0.049394</td>\n",
       "      <td>0.257200</td>\n",
       "      <td>107.682763</td>\n",
       "      <td>0</td>\n",
       "    </tr>\n",
       "    <tr>\n",
       "      <th>3</th>\n",
       "      <td>2.215122</td>\n",
       "      <td>14.189120</td>\n",
       "      <td>0.000185</td>\n",
       "      <td>0.009371</td>\n",
       "      <td>0.026215</td>\n",
       "      <td>0.167929</td>\n",
       "      <td>118.697557</td>\n",
       "      <td>0</td>\n",
       "    </tr>\n",
       "    <tr>\n",
       "      <th>4</th>\n",
       "      <td>2.152380</td>\n",
       "      <td>13.454414</td>\n",
       "      <td>0.002497</td>\n",
       "      <td>0.041289</td>\n",
       "      <td>0.057717</td>\n",
       "      <td>0.115303</td>\n",
       "      <td>112.475108</td>\n",
       "      <td>0</td>\n",
       "    </tr>\n",
       "  </tbody>\n",
       "</table>\n",
       "</div>"
      ],
      "text/plain": [
       "       mean        std       min       25%       50%       75%         max  \\\n",
       "0  2.136484  13.148316  0.000780  0.016872  0.032798  0.207694  109.881552   \n",
       "1  1.982966  11.981397  0.005990  0.038772  0.053273  0.175096  100.000194   \n",
       "2  2.163138  12.898257  0.003843  0.040499  0.049394  0.257200  107.682763   \n",
       "3  2.215122  14.189120  0.000185  0.009371  0.026215  0.167929  118.697557   \n",
       "4  2.152380  13.454414  0.002497  0.041289  0.057717  0.115303  112.475108   \n",
       "\n",
       "   label  \n",
       "0      0  \n",
       "1      0  \n",
       "2      0  \n",
       "3      0  \n",
       "4      0  "
      ]
     },
     "execution_count": 4,
     "metadata": {},
     "output_type": "execute_result"
    }
   ],
   "source": [
    "df = pd.read_csv('C:\\\\Users\\\\pveso\\\\Documents\\\\heart_attack_analysis\\\\data\\\\hepatite_fourier.csv', index_col=0)\n",
    "df.head()"
   ]
  },
  {
   "cell_type": "code",
   "execution_count": 32,
   "metadata": {},
   "outputs": [
    {
     "name": "stdout",
     "output_type": "stream",
     "text": [
      "(20, 7)\n",
      "(20,)\n"
     ]
    }
   ],
   "source": [
    "X = df.iloc[:,:-1]\n",
    "Y = df['label']\n",
    "print(X.shape)\n",
    "print(Y.shape)"
   ]
  },
  {
   "cell_type": "code",
   "execution_count": 41,
   "metadata": {},
   "outputs": [
    {
     "name": "stdout",
     "output_type": "stream",
     "text": [
      "(14, 7)\n",
      "(14,)\n",
      "(6, 7)\n",
      "(6,)\n"
     ]
    }
   ],
   "source": [
    "# Separando com trai_test split\n",
    "X_train, X_test, y_train, y_test = train_test_split(X, Y, test_size=0.3, random_state=42)\n",
    "print(X_train.shape)\n",
    "print(y_train.shape)\n",
    "print(X_test.shape)\n",
    "print(y_test.shape)"
   ]
  },
  {
   "cell_type": "code",
   "execution_count": 46,
   "metadata": {},
   "outputs": [
    {
     "name": "stdout",
     "output_type": "stream",
     "text": [
      "Accuracy on training set is : 0.6666666666666666\n",
      "[0.33333333 0.33333333 0.66666667 1.         1.        ]\n"
     ]
    }
   ],
   "source": [
    "cv = KFold(random_state=42, shuffle=True, n_splits=5)\n",
    "clf = RandomForestClassifier(1000, random_state=42)\n",
    "cros_val = cross_val_score(clf, X_train, y_train, cv=cv)\n",
    "print(\"Accuracy on training set is : {}\".format(cros_val.mean()))\n",
    "print(cros_val)"
   ]
  },
  {
   "cell_type": "code",
   "execution_count": 18,
   "metadata": {},
   "outputs": [
    {
     "name": "stdout",
     "output_type": "stream",
     "text": [
      "              precision    recall  f1-score   support\n",
      "\n",
      "           0       0.75      0.75      0.75         4\n",
      "           1       0.67      0.67      0.67         3\n",
      "\n",
      "    accuracy                           0.71         7\n",
      "   macro avg       0.71      0.71      0.71         7\n",
      "weighted avg       0.71      0.71      0.71         7\n",
      "\n"
     ]
    }
   ],
   "source": [
    "y_pred = clf.predict(X_test)\n",
    "print(classification_report(y_test, y_pred))"
   ]
  },
  {
   "cell_type": "code",
   "execution_count": 20,
   "metadata": {},
   "outputs": [
    {
     "name": "stdout",
     "output_type": "stream",
     "text": [
      "Accuracy on training set is : 0.6923076923076923\n",
      "Accuracy on test set is : 0.5714285714285714\n",
      "              precision    recall  f1-score   support\n",
      "\n",
      "           0       1.00      0.25      0.40         4\n",
      "           1       0.50      1.00      0.67         3\n",
      "\n",
      "    accuracy                           0.57         7\n",
      "   macro avg       0.75      0.62      0.53         7\n",
      "weighted avg       0.79      0.57      0.51         7\n",
      "\n"
     ]
    }
   ],
   "source": [
    "clf = LogisticRegression()\n",
    "clf.fit(X_train, y_train)\n",
    "print(\"Accuracy on training set is : {}\".format(clf.score(X_train, y_train)))\n",
    "print(\"Accuracy on test set is : {}\".format(clf.score(X_test, y_test)))\n",
    "y_pred = clf.predict(X_test)\n",
    "print(classification_report(y_test, y_pred))"
   ]
  },
  {
   "cell_type": "code",
   "execution_count": 21,
   "metadata": {},
   "outputs": [
    {
     "name": "stdout",
     "output_type": "stream",
     "text": [
      "Accuracy on training set is : 1.0\n",
      "Accuracy on test set is : 0.7142857142857143\n",
      "              precision    recall  f1-score   support\n",
      "\n",
      "           0       0.75      0.75      0.75         4\n",
      "           1       0.67      0.67      0.67         3\n",
      "\n",
      "    accuracy                           0.71         7\n",
      "   macro avg       0.71      0.71      0.71         7\n",
      "weighted avg       0.71      0.71      0.71         7\n",
      "\n"
     ]
    }
   ],
   "source": [
    "clf = DecisionTreeClassifier(random_state=42)\n",
    "clf.fit(X_train, y_train)\n",
    "print(\"Accuracy on training set is : {}\".format(clf.score(X_train, y_train)))\n",
    "print(\"Accuracy on test set is : {}\".format(clf.score(X_test, y_test)))\n",
    "y_pred = clf.predict(X_test)\n",
    "print(classification_report(y_test, y_pred))"
   ]
  },
  {
   "cell_type": "code",
   "execution_count": null,
   "metadata": {},
   "outputs": [],
   "source": []
  }
 ],
 "metadata": {
  "kernelspec": {
   "display_name": "ai_dev",
   "language": "python",
   "name": "python3"
  },
  "language_info": {
   "codemirror_mode": {
    "name": "ipython",
    "version": 3
   },
   "file_extension": ".py",
   "mimetype": "text/x-python",
   "name": "python",
   "nbconvert_exporter": "python",
   "pygments_lexer": "ipython3",
   "version": "3.7.1"
  }
 },
 "nbformat": 4,
 "nbformat_minor": 2
}
