{
 "cells": [
  {
   "cell_type": "code",
   "execution_count": 39,
   "metadata": {},
   "outputs": [],
   "source": [
    "import numpy as np\n",
    "import pandas as pd\n",
    "from sklearn import neighbors\n",
    "from sklearn.model_selection import KFold\n",
    "from sklearn.model_selection import cross_validate\n",
    "from sklearn.linear_model import LogisticRegression\n",
    "from sklearn.metrics import confusion_matrix, ConfusionMatrixDisplay\n",
    "import random as rd\n",
    "import matplotlib.pyplot as plt"
   ]
  },
  {
   "cell_type": "code",
   "execution_count": 3,
   "metadata": {},
   "outputs": [],
   "source": [
    "# Seed\n",
    "seed = rd.randint(0,99999999)"
   ]
  },
  {
   "cell_type": "code",
   "execution_count": 4,
   "metadata": {},
   "outputs": [],
   "source": [
    "df = pd.read_csv('complete_dataset.csv')"
   ]
  },
  {
   "cell_type": "code",
   "execution_count": 5,
   "metadata": {},
   "outputs": [
    {
     "data": {
      "text/html": [
       "<div>\n",
       "<style scoped>\n",
       "    .dataframe tbody tr th:only-of-type {\n",
       "        vertical-align: middle;\n",
       "    }\n",
       "\n",
       "    .dataframe tbody tr th {\n",
       "        vertical-align: top;\n",
       "    }\n",
       "\n",
       "    .dataframe thead th {\n",
       "        text-align: right;\n",
       "    }\n",
       "</style>\n",
       "<table border=\"1\" class=\"dataframe\">\n",
       "  <thead>\n",
       "    <tr style=\"text-align: right;\">\n",
       "      <th></th>\n",
       "      <th>Unnamed: 0</th>\n",
       "      <th>corrente_anodica</th>\n",
       "      <th>corrente_catodica</th>\n",
       "      <th>carga</th>\n",
       "      <th>diff_corrente_anodica_catodica</th>\n",
       "      <th>diff_pot_anodico_catodico</th>\n",
       "      <th>pico_derivada_anodica</th>\n",
       "      <th>pico_derivada_catodica</th>\n",
       "      <th>target</th>\n",
       "    </tr>\n",
       "  </thead>\n",
       "  <tbody>\n",
       "    <tr>\n",
       "      <th>0</th>\n",
       "      <td>0</td>\n",
       "      <td>111.206245</td>\n",
       "      <td>-128.070497</td>\n",
       "      <td>582.026580</td>\n",
       "      <td>239.276743</td>\n",
       "      <td>0.205634</td>\n",
       "      <td>84.763748</td>\n",
       "      <td>-89.000926</td>\n",
       "      <td>1</td>\n",
       "    </tr>\n",
       "    <tr>\n",
       "      <th>1</th>\n",
       "      <td>1</td>\n",
       "      <td>117.477703</td>\n",
       "      <td>-132.831311</td>\n",
       "      <td>554.636573</td>\n",
       "      <td>250.309014</td>\n",
       "      <td>0.199645</td>\n",
       "      <td>88.426733</td>\n",
       "      <td>-92.060480</td>\n",
       "      <td>1</td>\n",
       "    </tr>\n",
       "    <tr>\n",
       "      <th>2</th>\n",
       "      <td>2</td>\n",
       "      <td>111.984444</td>\n",
       "      <td>-133.417261</td>\n",
       "      <td>636.900253</td>\n",
       "      <td>245.401704</td>\n",
       "      <td>0.193656</td>\n",
       "      <td>87.221721</td>\n",
       "      <td>-93.731053</td>\n",
       "      <td>1</td>\n",
       "    </tr>\n",
       "    <tr>\n",
       "      <th>3</th>\n",
       "      <td>3</td>\n",
       "      <td>114.831800</td>\n",
       "      <td>-148.762000</td>\n",
       "      <td>497.157678</td>\n",
       "      <td>263.593800</td>\n",
       "      <td>0.187666</td>\n",
       "      <td>96.151949</td>\n",
       "      <td>-108.130415</td>\n",
       "      <td>1</td>\n",
       "    </tr>\n",
       "    <tr>\n",
       "      <th>4</th>\n",
       "      <td>4</td>\n",
       "      <td>100.741600</td>\n",
       "      <td>-122.019000</td>\n",
       "      <td>609.328195</td>\n",
       "      <td>222.760600</td>\n",
       "      <td>0.183673</td>\n",
       "      <td>83.015207</td>\n",
       "      <td>-90.556571</td>\n",
       "      <td>1</td>\n",
       "    </tr>\n",
       "  </tbody>\n",
       "</table>\n",
       "</div>"
      ],
      "text/plain": [
       "   Unnamed: 0  corrente_anodica  corrente_catodica       carga  \\\n",
       "0           0        111.206245        -128.070497  582.026580   \n",
       "1           1        117.477703        -132.831311  554.636573   \n",
       "2           2        111.984444        -133.417261  636.900253   \n",
       "3           3        114.831800        -148.762000  497.157678   \n",
       "4           4        100.741600        -122.019000  609.328195   \n",
       "\n",
       "   diff_corrente_anodica_catodica  diff_pot_anodico_catodico  \\\n",
       "0                      239.276743                   0.205634   \n",
       "1                      250.309014                   0.199645   \n",
       "2                      245.401704                   0.193656   \n",
       "3                      263.593800                   0.187666   \n",
       "4                      222.760600                   0.183673   \n",
       "\n",
       "   pico_derivada_anodica  pico_derivada_catodica  target  \n",
       "0              84.763748              -89.000926       1  \n",
       "1              88.426733              -92.060480       1  \n",
       "2              87.221721              -93.731053       1  \n",
       "3              96.151949             -108.130415       1  \n",
       "4              83.015207              -90.556571       1  "
      ]
     },
     "execution_count": 5,
     "metadata": {},
     "output_type": "execute_result"
    }
   ],
   "source": [
    "df.head()"
   ]
  },
  {
   "cell_type": "code",
   "execution_count": 6,
   "metadata": {},
   "outputs": [
    {
     "data": {
      "text/html": [
       "<div>\n",
       "<style scoped>\n",
       "    .dataframe tbody tr th:only-of-type {\n",
       "        vertical-align: middle;\n",
       "    }\n",
       "\n",
       "    .dataframe tbody tr th {\n",
       "        vertical-align: top;\n",
       "    }\n",
       "\n",
       "    .dataframe thead th {\n",
       "        text-align: right;\n",
       "    }\n",
       "</style>\n",
       "<table border=\"1\" class=\"dataframe\">\n",
       "  <thead>\n",
       "    <tr style=\"text-align: right;\">\n",
       "      <th></th>\n",
       "      <th>Unnamed: 0</th>\n",
       "      <th>corrente_anodica</th>\n",
       "      <th>corrente_catodica</th>\n",
       "      <th>carga</th>\n",
       "      <th>diff_corrente_anodica_catodica</th>\n",
       "      <th>diff_pot_anodico_catodico</th>\n",
       "      <th>pico_derivada_anodica</th>\n",
       "      <th>pico_derivada_catodica</th>\n",
       "      <th>target</th>\n",
       "    </tr>\n",
       "  </thead>\n",
       "  <tbody>\n",
       "    <tr>\n",
       "      <th>50</th>\n",
       "      <td>50</td>\n",
       "      <td>93.579555</td>\n",
       "      <td>-142.099047</td>\n",
       "      <td>703.929038</td>\n",
       "      <td>235.678601</td>\n",
       "      <td>0.192003</td>\n",
       "      <td>77.378071</td>\n",
       "      <td>-99.576142</td>\n",
       "      <td>0</td>\n",
       "    </tr>\n",
       "    <tr>\n",
       "      <th>51</th>\n",
       "      <td>51</td>\n",
       "      <td>0.000000</td>\n",
       "      <td>-129.023850</td>\n",
       "      <td>629.446398</td>\n",
       "      <td>0.000000</td>\n",
       "      <td>0.000000</td>\n",
       "      <td>65.455168</td>\n",
       "      <td>-90.572485</td>\n",
       "      <td>0</td>\n",
       "    </tr>\n",
       "    <tr>\n",
       "      <th>52</th>\n",
       "      <td>52</td>\n",
       "      <td>107.623529</td>\n",
       "      <td>-130.686378</td>\n",
       "      <td>546.450781</td>\n",
       "      <td>238.309908</td>\n",
       "      <td>0.188003</td>\n",
       "      <td>82.729708</td>\n",
       "      <td>-88.611173</td>\n",
       "      <td>0</td>\n",
       "    </tr>\n",
       "    <tr>\n",
       "      <th>53</th>\n",
       "      <td>53</td>\n",
       "      <td>85.166931</td>\n",
       "      <td>-104.910982</td>\n",
       "      <td>686.594488</td>\n",
       "      <td>190.077913</td>\n",
       "      <td>0.188003</td>\n",
       "      <td>67.804083</td>\n",
       "      <td>-74.661710</td>\n",
       "      <td>0</td>\n",
       "    </tr>\n",
       "    <tr>\n",
       "      <th>54</th>\n",
       "      <td>54</td>\n",
       "      <td>85.041928</td>\n",
       "      <td>-109.342301</td>\n",
       "      <td>665.782497</td>\n",
       "      <td>194.384229</td>\n",
       "      <td>0.192003</td>\n",
       "      <td>64.283984</td>\n",
       "      <td>-73.564895</td>\n",
       "      <td>0</td>\n",
       "    </tr>\n",
       "  </tbody>\n",
       "</table>\n",
       "</div>"
      ],
      "text/plain": [
       "    Unnamed: 0  corrente_anodica  corrente_catodica       carga  \\\n",
       "50          50         93.579555        -142.099047  703.929038   \n",
       "51          51          0.000000        -129.023850  629.446398   \n",
       "52          52        107.623529        -130.686378  546.450781   \n",
       "53          53         85.166931        -104.910982  686.594488   \n",
       "54          54         85.041928        -109.342301  665.782497   \n",
       "\n",
       "    diff_corrente_anodica_catodica  diff_pot_anodico_catodico  \\\n",
       "50                      235.678601                   0.192003   \n",
       "51                        0.000000                   0.000000   \n",
       "52                      238.309908                   0.188003   \n",
       "53                      190.077913                   0.188003   \n",
       "54                      194.384229                   0.192003   \n",
       "\n",
       "    pico_derivada_anodica  pico_derivada_catodica  target  \n",
       "50              77.378071              -99.576142       0  \n",
       "51              65.455168              -90.572485       0  \n",
       "52              82.729708              -88.611173       0  \n",
       "53              67.804083              -74.661710       0  \n",
       "54              64.283984              -73.564895       0  "
      ]
     },
     "execution_count": 6,
     "metadata": {},
     "output_type": "execute_result"
    }
   ],
   "source": [
    "df.tail()"
   ]
  },
  {
   "cell_type": "code",
   "execution_count": 7,
   "metadata": {},
   "outputs": [
    {
     "name": "stdout",
     "output_type": "stream",
     "text": [
      "<class 'pandas.core.frame.DataFrame'>\n",
      "RangeIndex: 55 entries, 0 to 54\n",
      "Data columns (total 9 columns):\n",
      " #   Column                          Non-Null Count  Dtype  \n",
      "---  ------                          --------------  -----  \n",
      " 0   Unnamed: 0                      55 non-null     int64  \n",
      " 1   corrente_anodica                55 non-null     float64\n",
      " 2   corrente_catodica               55 non-null     float64\n",
      " 3   carga                           55 non-null     float64\n",
      " 4   diff_corrente_anodica_catodica  55 non-null     float64\n",
      " 5   diff_pot_anodico_catodico       55 non-null     float64\n",
      " 6   pico_derivada_anodica           55 non-null     float64\n",
      " 7   pico_derivada_catodica          55 non-null     float64\n",
      " 8   target                          55 non-null     int64  \n",
      "dtypes: float64(7), int64(2)\n",
      "memory usage: 4.0 KB\n"
     ]
    }
   ],
   "source": [
    "df.info()"
   ]
  },
  {
   "cell_type": "code",
   "execution_count": 8,
   "metadata": {},
   "outputs": [
    {
     "data": {
      "text/html": [
       "<div>\n",
       "<style scoped>\n",
       "    .dataframe tbody tr th:only-of-type {\n",
       "        vertical-align: middle;\n",
       "    }\n",
       "\n",
       "    .dataframe tbody tr th {\n",
       "        vertical-align: top;\n",
       "    }\n",
       "\n",
       "    .dataframe thead th {\n",
       "        text-align: right;\n",
       "    }\n",
       "</style>\n",
       "<table border=\"1\" class=\"dataframe\">\n",
       "  <thead>\n",
       "    <tr style=\"text-align: right;\">\n",
       "      <th></th>\n",
       "      <th>Unnamed: 0</th>\n",
       "      <th>corrente_anodica</th>\n",
       "      <th>corrente_catodica</th>\n",
       "      <th>carga</th>\n",
       "      <th>diff_corrente_anodica_catodica</th>\n",
       "      <th>diff_pot_anodico_catodico</th>\n",
       "      <th>pico_derivada_anodica</th>\n",
       "      <th>pico_derivada_catodica</th>\n",
       "      <th>target</th>\n",
       "    </tr>\n",
       "  </thead>\n",
       "  <tbody>\n",
       "    <tr>\n",
       "      <th>0</th>\n",
       "      <td>0</td>\n",
       "      <td>111.206245</td>\n",
       "      <td>-128.070497</td>\n",
       "      <td>582.026580</td>\n",
       "      <td>239.276743</td>\n",
       "      <td>0.205634</td>\n",
       "      <td>84.763748</td>\n",
       "      <td>-89.000926</td>\n",
       "      <td>1</td>\n",
       "    </tr>\n",
       "    <tr>\n",
       "      <th>1</th>\n",
       "      <td>1</td>\n",
       "      <td>117.477703</td>\n",
       "      <td>-132.831311</td>\n",
       "      <td>554.636573</td>\n",
       "      <td>250.309014</td>\n",
       "      <td>0.199645</td>\n",
       "      <td>88.426733</td>\n",
       "      <td>-92.060480</td>\n",
       "      <td>1</td>\n",
       "    </tr>\n",
       "    <tr>\n",
       "      <th>2</th>\n",
       "      <td>2</td>\n",
       "      <td>111.984444</td>\n",
       "      <td>-133.417261</td>\n",
       "      <td>636.900253</td>\n",
       "      <td>245.401704</td>\n",
       "      <td>0.193656</td>\n",
       "      <td>87.221721</td>\n",
       "      <td>-93.731053</td>\n",
       "      <td>1</td>\n",
       "    </tr>\n",
       "    <tr>\n",
       "      <th>3</th>\n",
       "      <td>3</td>\n",
       "      <td>114.831800</td>\n",
       "      <td>-148.762000</td>\n",
       "      <td>497.157678</td>\n",
       "      <td>263.593800</td>\n",
       "      <td>0.187666</td>\n",
       "      <td>96.151949</td>\n",
       "      <td>-108.130415</td>\n",
       "      <td>1</td>\n",
       "    </tr>\n",
       "    <tr>\n",
       "      <th>4</th>\n",
       "      <td>4</td>\n",
       "      <td>100.741600</td>\n",
       "      <td>-122.019000</td>\n",
       "      <td>609.328195</td>\n",
       "      <td>222.760600</td>\n",
       "      <td>0.183673</td>\n",
       "      <td>83.015207</td>\n",
       "      <td>-90.556571</td>\n",
       "      <td>1</td>\n",
       "    </tr>\n",
       "  </tbody>\n",
       "</table>\n",
       "</div>"
      ],
      "text/plain": [
       "   Unnamed: 0  corrente_anodica  corrente_catodica       carga  \\\n",
       "0           0        111.206245        -128.070497  582.026580   \n",
       "1           1        117.477703        -132.831311  554.636573   \n",
       "2           2        111.984444        -133.417261  636.900253   \n",
       "3           3        114.831800        -148.762000  497.157678   \n",
       "4           4        100.741600        -122.019000  609.328195   \n",
       "\n",
       "   diff_corrente_anodica_catodica  diff_pot_anodico_catodico  \\\n",
       "0                      239.276743                   0.205634   \n",
       "1                      250.309014                   0.199645   \n",
       "2                      245.401704                   0.193656   \n",
       "3                      263.593800                   0.187666   \n",
       "4                      222.760600                   0.183673   \n",
       "\n",
       "   pico_derivada_anodica  pico_derivada_catodica  target  \n",
       "0              84.763748              -89.000926       1  \n",
       "1              88.426733              -92.060480       1  \n",
       "2              87.221721              -93.731053       1  \n",
       "3              96.151949             -108.130415       1  \n",
       "4              83.015207              -90.556571       1  "
      ]
     },
     "execution_count": 8,
     "metadata": {},
     "output_type": "execute_result"
    }
   ],
   "source": [
    "df.head()"
   ]
  },
  {
   "cell_type": "code",
   "execution_count": 37,
   "metadata": {},
   "outputs": [
    {
     "name": "stdout",
     "output_type": "stream",
     "text": [
      "Acurracy %.3f 0.890909090909091\n"
     ]
    }
   ],
   "source": [
    "# Preparando os dados\n",
    "X = df.iloc[:,1:-1]\n",
    "y = df['target']\n",
    "\n",
    "cv = KFold(n_splits = 5, random_state=seed, shuffle=True)\n",
    "#Create a model for logistic regression\n",
    "model = LogisticRegression(max_iter=1000)\n",
    "scores = cross_validate(model, X.values, y.values, scoring='accuracy', cv = cv, n_jobs=-1, return_estimator=True)\n",
    "print(\"Acurracy %.3f\", np.mean(np.mean(scores['test_score'])))"
   ]
  },
  {
   "cell_type": "code",
   "execution_count": 47,
   "metadata": {},
   "outputs": [
    {
     "name": "stdout",
     "output_type": "stream",
     "text": [
      "Fold 0\n",
      "Number of samples: 11\n",
      "Mean Specificity= 1.0\n",
      "Mean Sensibility= 1.0\n",
      "\n",
      "\n"
     ]
    },
    {
     "data": {
      "image/png": "[encoded data removed]",
      "text/plain": [
       "<Figure size 640x480 with 2 Axes>"
      ]
     },
     "metadata": {},
     "output_type": "display_data"
    },
    {
     "name": "stdout",
     "output_type": "stream",
     "text": [
      "Fold 1\n",
      "Number of samples: 11\n",
      "Mean Specificity= 1.0\n",
      "Mean Sensibility= 1.0\n",
      "\n",
      "\n"
     ]
    },
    {
     "data": {
      "image/png": "[encoded data removed]",
      "text/plain": [
       "<Figure size 640x480 with 2 Axes>"
      ]
     },
     "metadata": {},
     "output_type": "display_data"
    },
    {
     "name": "stdout",
     "output_type": "stream",
     "text": [
      "Fold 2\n",
      "Number of samples: 11\n",
      "Mean Specificity= 1.0\n",
      "Mean Sensibility= 1.0\n",
      "\n",
      "\n"
     ]
    },
    {
     "data": {
      "image/png": "[encoded data removed]",
      "text/plain": [
       "<Figure size 640x480 with 2 Axes>"
      ]
     },
     "metadata": {},
     "output_type": "display_data"
    },
    {
     "name": "stdout",
     "output_type": "stream",
     "text": [
      "Fold 3\n",
      "Number of samples: 11\n",
      "Mean Specificity= 0.7142857142857143\n",
      "Mean Sensibility= 0.75\n",
      "\n",
      "\n"
     ]
    },
    {
     "data": {
      "image/png": "[encoded data removed]",
      "text/plain": [
       "<Figure size 640x480 with 2 Axes>"
      ]
     },
     "metadata": {},
     "output_type": "display_data"
    },
    {
     "name": "stdout",
     "output_type": "stream",
     "text": [
      "Fold 4\n",
      "Number of samples: 11\n",
      "Mean Specificity= 1.0\n",
      "Mean Sensibility= 0.8571428571428571\n",
      "\n",
      "\n"
     ]
    },
    {
     "data": {
      "image/png": "[encoded data removed]",
      "text/plain": [
       "<Figure size 640x480 with 2 Axes>"
      ]
     },
     "metadata": {},
     "output_type": "display_data"
    },
    {
     "name": "stdout",
     "output_type": "stream",
     "text": [
      "Mean Specificity= 0.9428571428571428 Std: 0.11428571428571428\n",
      "Mean Sensibility= 0.9214285714285714  Std: 0.10202040612204072\n"
     ]
    }
   ],
   "source": [
    "list_specificity = []\n",
    "list_sensibility = []\n",
    "estimator = scores['estimator'][0]\n",
    "\n",
    "for i, (train_index, test_index) in enumerate(cv.split(X.values)):\n",
    "    \n",
    "    X_pred = X.iloc[test_index].values\n",
    "    y_ground = y.iloc[test_index].values\n",
    "    y_pred = estimator.predict(X_pred)\n",
    "    tn, fp, fn, tp = confusion_matrix(y_ground, y_pred).ravel()\n",
    "    sensibility = tp / (tp + fn)\n",
    "    specificity = tn / (tn + fp)\n",
    "    list_sensibility.append(sensibility)\n",
    "    list_specificity.append(specificity)\n",
    "    \n",
    "    print(f\"Fold {i}\")\n",
    "    print(f'Number of samples: {len(X_pred)}')\n",
    "    print(f\"Mean Specificity= {specificity}\")\n",
    "    print(f\"Mean Sensibility= {sensibility}\\n\\n\")\n",
    "  \n",
    "    ConfusionMatrixDisplay(confusion_matrix=confusion_matrix(y_ground, y_pred), display_labels=['Non Infart', 'Infart']).plot()\n",
    "    plt.grid(False)\n",
    "    plt.show()\n",
    "    \n",
    "print(f\"Mean Specificity= {np.mean(list_specificity)} Std: {np.std(list_specificity)}\")\n",
    "print(f\"Mean Sensibility= {np.mean(list_sensibility)}  Std: {np.std(list_sensibility)}\")"
   ]
  },
  {
   "cell_type": "code",
   "execution_count": 48,
   "metadata": {},
   "outputs": [
    {
     "name": "stdout",
     "output_type": "stream",
     "text": [
      "Number of samples: 55\n",
      "Mean Specificity= 0.9310344827586207\n",
      "Mean Sensibility= 0.9230769230769231\n",
      "\n",
      "\n"
     ]
    },
    {
     "data": {
      "image/png": "[encoded data removed]",
      "text/plain": [
       "<Figure size 640x480 with 2 Axes>"
      ]
     },
     "metadata": {},
     "output_type": "display_data"
    }
   ],
   "source": [
    "# Verificando com todos os elementos\n",
    "X_pred = X.values\n",
    "y_truth = y.values\n",
    "y_pred = estimator.predict(X_pred)\n",
    "tn, fp, fn, tp = confusion_matrix(y_truth, y_pred).ravel()\n",
    "sensibility = tp / (tp + fn)\n",
    "specificity = tn / (tn + fp)\n",
    "print(f'Number of samples: {len(X_pred)}')\n",
    "print(f\"Specificity= {specificity}\")\n",
    "print(f\"Sensibility= {sensibility}\\n\\n\")\n",
    "  \n",
    "ConfusionMatrixDisplay(confusion_matrix=confusion_matrix(y_truth, y_pred), display_labels=['Non Infart', 'Infart']).plot()\n",
    "plt.grid(False)\n",
    "plt.show()"
   ]
  }
 ],
 "metadata": {
  "kernelspec": {
   "display_name": "context_env",
   "language": "python",
   "name": "python3"
  },
  "language_info": {
   "codemirror_mode": {
    "name": "ipython",
    "version": 3
   },
   "file_extension": ".py",
   "mimetype": "text/x-python",
   "name": "python",
   "nbconvert_exporter": "python",
   "pygments_lexer": "ipython3",
   "version": "3.7.13"
  },
  "orig_nbformat": 4
 },
 "nbformat": 4,
 "nbformat_minor": 2
}
